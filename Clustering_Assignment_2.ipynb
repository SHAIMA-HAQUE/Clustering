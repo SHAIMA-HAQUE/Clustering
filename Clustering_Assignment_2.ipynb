{
  "nbformat": 4,
  "nbformat_minor": 0,
  "metadata": {
    "colab": {
      "name": "Clustering-Assignment-2.ipynb",
      "provenance": [],
      "authorship_tag": "ABX9TyNF9sx9Hw4vnXy9jFa5PQnI",
      "include_colab_link": true
    },
    "kernelspec": {
      "name": "python3",
      "display_name": "Python 3"
    },
    "language_info": {
      "name": "python"
    }
  },
  "cells": [
    {
      "cell_type": "markdown",
      "metadata": {
        "id": "view-in-github",
        "colab_type": "text"
      },
      "source": [
        "<a href=\"https://colab.research.google.com/github/SHAIMA-HAQUE/Clustering/blob/main/Clustering_Assignment_2.ipynb\" target=\"_parent\"><img src=\"https://colab.research.google.com/assets/colab-badge.svg\" alt=\"Open In Colab\"/></a>"
      ]
    },
    {
      "cell_type": "markdown",
      "metadata": {
        "id": "ryT7Z0BQ7DaZ"
      },
      "source": [
        "# ***Import Libraries***"
      ]
    },
    {
      "cell_type": "code",
      "metadata": {
        "id": "-cLjzrM-NlVh"
      },
      "source": [
        "#import libraries\n",
        "import pandas as pd\n",
        "import numpy as np\n",
        "import matplotlib.pyplot as plt"
      ],
      "execution_count": null,
      "outputs": []
    },
    {
      "cell_type": "markdown",
      "metadata": {
        "id": "d1ty2Z_Q7H35"
      },
      "source": [
        "# ***Import Dataset***"
      ]
    },
    {
      "cell_type": "code",
      "metadata": {
        "colab": {
          "base_uri": "https://localhost:8080/"
        },
        "id": "Wp_ZkjKzQmoO",
        "outputId": "d7354f73-4721-45da-90fd-590b6d9040f4"
      },
      "source": [
        "dataset = pd.read_csv(\"Online_Retail.csv\")\n",
        "print(dataset)"
      ],
      "execution_count": null,
      "outputs": [
        {
          "output_type": "stream",
          "text": [
            "      Quantity  UnitPrice  CustomerID\n",
            "0            6       2.55     17850.0\n",
            "1            6       3.39     17850.0\n",
            "2            8       2.75     17850.0\n",
            "3            6       3.39     17850.0\n",
            "4            6       3.39     17850.0\n",
            "...        ...        ...         ...\n",
            "1438        20       1.95     16456.0\n",
            "1439        30       1.95     16456.0\n",
            "1440        32       2.95     16456.0\n",
            "1441        -1       2.10     17841.0\n",
            "1442        -2       0.85     17841.0\n",
            "\n",
            "[1443 rows x 3 columns]\n"
          ],
          "name": "stdout"
        }
      ]
    },
    {
      "cell_type": "code",
      "metadata": {
        "id": "m_wntNZhQ6S3"
      },
      "source": [
        "X = dataset.iloc[:,:].values\n",
        "x1= dataset.iloc[:,0].values\n",
        "x2= dataset.iloc[:,1].values\n",
        "x3 = dataset.iloc[:,2].values\n",
        "\n"
      ],
      "execution_count": null,
      "outputs": []
    },
    {
      "cell_type": "markdown",
      "metadata": {
        "id": "QM17vbGj7gqS"
      },
      "source": [
        "# ***Plotting the Data***"
      ]
    },
    {
      "cell_type": "code",
      "metadata": {
        "colab": {
          "base_uri": "https://localhost:8080/",
          "height": 283
        },
        "id": "7WPyqrAHRXOc",
        "outputId": "8d6a359b-c4b5-45d8-de74-4f4941aa59ba"
      },
      "source": [
        "plt.scatter(x1, x2,x3)\n",
        "plt.plot()"
      ],
      "execution_count": null,
      "outputs": [
        {
          "output_type": "execute_result",
          "data": {
            "text/plain": [
              "[]"
            ]
          },
          "metadata": {
            "tags": []
          },
          "execution_count": 91
        },
        {
          "output_type": "display_data",
          "data": {
            "image/png": "[encoded data removed]",
            "text/plain": [
              "<Figure size 432x288 with 1 Axes>"
            ]
          },
          "metadata": {
            "tags": [],
            "needs_background": "light"
          }
        }
      ]
    },
    {
      "cell_type": "markdown",
      "metadata": {
        "id": "hvoffeb17qAc"
      },
      "source": [
        "# ***Removing Instances of NAN and Inf values***"
      ]
    },
    {
      "cell_type": "code",
      "metadata": {
        "colab": {
          "base_uri": "https://localhost:8080/",
          "height": 415
        },
        "id": "uef-FkI1TM0X",
        "outputId": "48ca3262-33e7-4889-8e5c-a2233f908e7c"
      },
      "source": [
        "assert isinstance(dataset, pd.DataFrame), dataset.dropna(inplace=True)\n",
        "indices_to_keep = ~dataset.isin([np.nan, np.inf, -np.inf]).any(1)\n",
        "dataset[indices_to_keep].astype(np.float64)"
      ],
      "execution_count": null,
      "outputs": [
        {
          "output_type": "execute_result",
          "data": {
            "text/html": [
              "<div>\n",
              "<style scoped>\n",
              "    .dataframe tbody tr th:only-of-type {\n",
              "        vertical-align: middle;\n",
              "    }\n",
              "\n",
              "    .dataframe tbody tr th {\n",
              "        vertical-align: top;\n",
              "    }\n",
              "\n",
              "    .dataframe thead th {\n",
              "        text-align: right;\n",
              "    }\n",
              "</style>\n",
              "<table border=\"1\" class=\"dataframe\">\n",
              "  <thead>\n",
              "    <tr style=\"text-align: right;\">\n",
              "      <th></th>\n",
              "      <th>Quantity</th>\n",
              "      <th>UnitPrice</th>\n",
              "      <th>CustomerID</th>\n",
              "      <th>KMeans</th>\n",
              "    </tr>\n",
              "  </thead>\n",
              "  <tbody>\n",
              "    <tr>\n",
              "      <th>0</th>\n",
              "      <td>6.0</td>\n",
              "      <td>2.55</td>\n",
              "      <td>17850.0</td>\n",
              "      <td>1.0</td>\n",
              "    </tr>\n",
              "    <tr>\n",
              "      <th>1</th>\n",
              "      <td>6.0</td>\n",
              "      <td>3.39</td>\n",
              "      <td>17850.0</td>\n",
              "      <td>1.0</td>\n",
              "    </tr>\n",
              "    <tr>\n",
              "      <th>2</th>\n",
              "      <td>8.0</td>\n",
              "      <td>2.75</td>\n",
              "      <td>17850.0</td>\n",
              "      <td>1.0</td>\n",
              "    </tr>\n",
              "    <tr>\n",
              "      <th>3</th>\n",
              "      <td>6.0</td>\n",
              "      <td>3.39</td>\n",
              "      <td>17850.0</td>\n",
              "      <td>1.0</td>\n",
              "    </tr>\n",
              "    <tr>\n",
              "      <th>4</th>\n",
              "      <td>6.0</td>\n",
              "      <td>3.39</td>\n",
              "      <td>17850.0</td>\n",
              "      <td>1.0</td>\n",
              "    </tr>\n",
              "    <tr>\n",
              "      <th>...</th>\n",
              "      <td>...</td>\n",
              "      <td>...</td>\n",
              "      <td>...</td>\n",
              "      <td>...</td>\n",
              "    </tr>\n",
              "    <tr>\n",
              "      <th>1438</th>\n",
              "      <td>20.0</td>\n",
              "      <td>1.95</td>\n",
              "      <td>16456.0</td>\n",
              "      <td>0.0</td>\n",
              "    </tr>\n",
              "    <tr>\n",
              "      <th>1439</th>\n",
              "      <td>30.0</td>\n",
              "      <td>1.95</td>\n",
              "      <td>16456.0</td>\n",
              "      <td>0.0</td>\n",
              "    </tr>\n",
              "    <tr>\n",
              "      <th>1440</th>\n",
              "      <td>32.0</td>\n",
              "      <td>2.95</td>\n",
              "      <td>16456.0</td>\n",
              "      <td>0.0</td>\n",
              "    </tr>\n",
              "    <tr>\n",
              "      <th>1441</th>\n",
              "      <td>-1.0</td>\n",
              "      <td>2.10</td>\n",
              "      <td>17841.0</td>\n",
              "      <td>1.0</td>\n",
              "    </tr>\n",
              "    <tr>\n",
              "      <th>1442</th>\n",
              "      <td>-2.0</td>\n",
              "      <td>0.85</td>\n",
              "      <td>17841.0</td>\n",
              "      <td>1.0</td>\n",
              "    </tr>\n",
              "  </tbody>\n",
              "</table>\n",
              "<p>1442 rows × 4 columns</p>\n",
              "</div>"
            ],
            "text/plain": [
              "      Quantity  UnitPrice  CustomerID  KMeans\n",
              "0          6.0       2.55     17850.0     1.0\n",
              "1          6.0       3.39     17850.0     1.0\n",
              "2          8.0       2.75     17850.0     1.0\n",
              "3          6.0       3.39     17850.0     1.0\n",
              "4          6.0       3.39     17850.0     1.0\n",
              "...        ...        ...         ...     ...\n",
              "1438      20.0       1.95     16456.0     0.0\n",
              "1439      30.0       1.95     16456.0     0.0\n",
              "1440      32.0       2.95     16456.0     0.0\n",
              "1441      -1.0       2.10     17841.0     1.0\n",
              "1442      -2.0       0.85     17841.0     1.0\n",
              "\n",
              "[1442 rows x 4 columns]"
            ]
          },
          "metadata": {
            "tags": []
          },
          "execution_count": 92
        }
      ]
    },
    {
      "cell_type": "code",
      "metadata": {
        "id": "HKot0gzYVqLW"
      },
      "source": [
        "dataset.replace([np.inf, -np.inf], np.nan, inplace=True)"
      ],
      "execution_count": null,
      "outputs": []
    },
    {
      "cell_type": "code",
      "metadata": {
        "id": "S00xaP9keIlK"
      },
      "source": [
        "dataset =dataset[~dataset.isin([np.nan, np.inf, -np.inf]).any(1)]"
      ],
      "execution_count": null,
      "outputs": []
    },
    {
      "cell_type": "markdown",
      "metadata": {
        "id": "3N5kyzfx7yHc"
      },
      "source": [
        "# ***K - Means***"
      ]
    },
    {
      "cell_type": "code",
      "metadata": {
        "colab": {
          "base_uri": "https://localhost:8080/"
        },
        "id": "O_A754WYRaVt",
        "outputId": "7b2dd96f-c633-4110-f66d-b289d5d3c416"
      },
      "source": [
        "from sklearn.cluster import KMeans\n",
        "# Number of clusters\n",
        "kmeans = KMeans(n_clusters=3)\n",
        "# Getting the cluster labels\n",
        "labels = kmeans.fit_predict(dataset)\n",
        "dataset[\"KMeans\"]= labels\n",
        "# Centroid values\n",
        "centroids = kmeans.cluster_centers_\n",
        "print(\"Centroid values\")\n",
        "print(centroids) \n"
      ],
      "execution_count": null,
      "outputs": [
        {
          "output_type": "stream",
          "text": [
            "Centroid values\n",
            "[[1.80093750e+01 3.26462500e+00 1.30021969e+04 2.00000000e+00]\n",
            " [7.79417879e+00 3.05097713e+00 1.78138482e+04 1.00000000e+00]\n",
            " [1.19126365e+01 3.13850234e+00 1.53176115e+04 1.06581410e-14]]\n"
          ],
          "name": "stdout"
        }
      ]
    },
    {
      "cell_type": "code",
      "metadata": {
        "colab": {
          "base_uri": "https://localhost:8080/"
        },
        "id": "OSbYZ0EbRdpY",
        "outputId": "372375d2-1f79-44d1-b8ee-981f9fb89325"
      },
      "source": [
        "print(dataset)\n"
      ],
      "execution_count": null,
      "outputs": [
        {
          "output_type": "stream",
          "text": [
            "      Quantity  UnitPrice  CustomerID  KMeans\n",
            "0            6       2.55     17850.0       1\n",
            "1            6       3.39     17850.0       1\n",
            "2            8       2.75     17850.0       1\n",
            "3            6       3.39     17850.0       1\n",
            "4            6       3.39     17850.0       1\n",
            "...        ...        ...         ...     ...\n",
            "1438        20       1.95     16456.0       2\n",
            "1439        30       1.95     16456.0       2\n",
            "1440        32       2.95     16456.0       2\n",
            "1441        -1       2.10     17841.0       1\n",
            "1442        -2       0.85     17841.0       1\n",
            "\n",
            "[1442 rows x 4 columns]\n"
          ],
          "name": "stdout"
        }
      ]
    },
    {
      "cell_type": "markdown",
      "metadata": {
        "id": "NAsx7yy772F3"
      },
      "source": [
        "# ***Plotting the Clusters and Centroids***"
      ]
    },
    {
      "cell_type": "code",
      "metadata": {
        "colab": {
          "base_uri": "https://localhost:8080/",
          "height": 283
        },
        "id": "3UtHdt4NRi_A",
        "outputId": "b31df105-745c-450c-c41b-4f8bb1d152b1"
      },
      "source": [
        "k=3\n",
        "#plotting the clusters\n",
        "colors = ['r', 'g', 'b']\n",
        "fig, ax = plt.subplots()\n",
        "for i in range(k):\n",
        "        points = np.array([X[j] for j in range(len(X)) if labels[j] == i])\n",
        "        ax.scatter(points[:, 0], points[:, 1],points[:,2], c=colors[i])\n",
        "S = [20*2**n for n in range(len(X))]\n",
        "#plotting the centroids        \n",
        "ax.scatter(centroids[:, 0], centroids[:, 1],centroids[:,2],marker='*')"
      ],
      "execution_count": null,
      "outputs": [
        {
          "output_type": "execute_result",
          "data": {
            "text/plain": [
              "<matplotlib.collections.PathCollection at 0x7f1d41828cd0>"
            ]
          },
          "metadata": {
            "tags": []
          },
          "execution_count": 127
        },
        {
          "output_type": "display_data",
          "data": {
            "image/png": "[encoded data removed]",
            "text/plain": [
              "<Figure size 432x288 with 1 Axes>"
            ]
          },
          "metadata": {
            "tags": [],
            "needs_background": "light"
          }
        }
      ]
    }
  ]
}